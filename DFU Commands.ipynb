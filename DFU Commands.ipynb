{
 "cells": [
  {
   "cell_type": "code",
   "id": "initial_id",
   "metadata": {
    "collapsed": true
   },
   "source": "!dfu-programmer atmega16u2 get",
   "outputs": [],
   "execution_count": null
  },
  {
   "metadata": {},
   "cell_type": "code",
   "source": [
    "# USB MIDI Device\n",
    "!dfu-programmer atmega16u2 erase\n",
    "!dfu-programmer atmega16u2 flash --suppress-bootloader-mem compiled_firmwares/arduino_midi.hex\n",
    "!dfu-programmer atmega16u2 reset\n",
    "# Turn off Arduino, turn back on"
   ],
   "id": "62638efad5a8a372",
   "outputs": [],
   "execution_count": null
  },
  {
   "metadata": {},
   "cell_type": "code",
   "source": [
    "# Serial Device\n",
    "!dfu-programmer atmega16u2 erase\n",
    "!dfu-programmer atmega16u2 flash --suppress-bootloader-mem compiled_firmwares/usbserial_uno_16u2.hex\n",
    "!dfu-programmer atmega16u2 reset\n",
    "# Turn off Arduino, turn back on"
   ],
   "id": "5c15f8aa0e8b29e7",
   "outputs": [],
   "execution_count": null
  },
  {
   "metadata": {},
   "cell_type": "code",
   "source": "",
   "id": "a5c6ce990dcedfbe",
   "outputs": [],
   "execution_count": null
  }
 ],
 "metadata": {
  "kernelspec": {
   "display_name": "Python 3",
   "language": "python",
   "name": "python3"
  },
  "language_info": {
   "codemirror_mode": {
    "name": "ipython",
    "version": 2
   },
   "file_extension": ".py",
   "mimetype": "text/x-python",
   "name": "python",
   "nbconvert_exporter": "python",
   "pygments_lexer": "ipython2",
   "version": "2.7.6"
  }
 },
 "nbformat": 4,
 "nbformat_minor": 5
}
